{
 "cells": [
  {
   "cell_type": "code",
   "execution_count": 56,
   "id": "0125c0fa",
   "metadata": {},
   "outputs": [
    {
     "name": "stdout",
     "output_type": "stream",
     "text": [
      "<class 'pandas.core.frame.DataFrame'>\n",
      "RangeIndex: 25108 entries, 0 to 25107\n",
      "Data columns (total 18 columns):\n",
      " #   Column             Non-Null Count  Dtype  \n",
      "---  ------             --------------  -----  \n",
      " 0   OrderID            25108 non-null  object \n",
      " 1   Region             25108 non-null  object \n",
      " 2   Country            25108 non-null  object \n",
      " 3   CustID             25108 non-null  int64  \n",
      " 4   Customer_Name      25106 non-null  object \n",
      " 5   ProductSKU         25108 non-null  object \n",
      " 6   Product_Category   25108 non-null  object \n",
      " 7   OrderLineItem      25108 non-null  int64  \n",
      " 8   OrderQuantity      25108 non-null  int64  \n",
      " 9   ProductCost        25108 non-null  float64\n",
      " 10  ProductPrice       25108 non-null  float64\n",
      " 11  OrderDate          25108 non-null  object \n",
      " 12  AcquisitionSource  25108 non-null  object \n",
      " 13  TransactionID      25108 non-null  object \n",
      " 14  Fraud              25108 non-null  object \n",
      " 15  PaymentMethod      25108 non-null  object \n",
      " 16  CardType           22763 non-null  object \n",
      " 17  Gender             22237 non-null  object \n",
      "dtypes: float64(2), int64(3), object(13)\n",
      "memory usage: 3.4+ MB\n",
      "None\n",
      "   OrderID          Region         Country  CustID    Customer_Name  \\\n",
      "0  SO45080       Northwest   United States   14657      JOHN THOMAS   \n",
      "1  SO45079       Southwest   United States   29255  KYLE WASHINGTON   \n",
      "2  SO45082       Australia       Australia   11455        ROSS SANZ   \n",
      "3  SO45081          Canada          Canada   26782       SETH LEWIS   \n",
      "4  SO45083  United Kingdom  United Kingdom   14947   ALEJANDRO CHEN   \n",
      "\n",
      "   ProductSKU Product_Category  OrderLineItem  OrderQuantity  ProductCost  \\\n",
      "0  BK-R50B-58           Plants              1              1       413.15   \n",
      "1  BK-R93R-48           Plants              1              1      2171.29   \n",
      "2  BK-M82B-44           Plants              1              1      1898.09   \n",
      "3  BK-R50B-44           Plants              1              1       413.15   \n",
      "4  BK-R93R-48           Plants              1              1      2171.29   \n",
      "\n",
      "   ProductPrice OrderDate AcquisitionSource      TransactionID  Fraud  \\\n",
      "0        699.10  1/1/2020        Meta-ads\\r  I4127227587819694  FALSE   \n",
      "1       3578.27  1/1/2020      Google-ads\\r  E9525730529761877  FALSE   \n",
      "2       3374.99  1/1/2020      Google-ads\\r  Z6376643485803420  FALSE   \n",
      "3        699.10  1/1/2020      Google-ads\\r  R8609290025411138  FALSE   \n",
      "4       3578.27  2/1/2020        Meta-ads\\r  Y9572700698484288  FALSE   \n",
      "\n",
      "  PaymentMethod  CardType Gender  \n",
      "0    CREDITCARD  DISCOVER      M  \n",
      "1    CREDITCARD        MC      M  \n",
      "2    CREDITCARD      VISA      M  \n",
      "3    CREDITCARD      VISA      M  \n",
      "4    CREDITCARD      VISA      M  \n"
     ]
    }
   ],
   "source": [
    "import pandas as pd\n",
    "df= pd.read_csv('C:/Users/admin/Downloads/meriskill_week1/day1/Order_Data_meriskill(Order_Data) (1).csv', encoding='utf-8')\n",
    "print(df.info())\n",
    "print(df.head())"
   ]
  },
  {
   "cell_type": "code",
   "execution_count": 57,
   "id": "63c90eb7",
   "metadata": {},
   "outputs": [
    {
     "name": "stdout",
     "output_type": "stream",
     "text": [
      "['Meta-ads\\r' 'Google-ads\\r' 'Yt-Campaign\\r']\n",
      "<bound method IndexOpsMixin.value_counts of 0          Meta-ads\n",
      "1        Google-ads\n",
      "2        Google-ads\n",
      "3        Google-ads\n",
      "4          Meta-ads\n",
      "            ...    \n",
      "25103    Google-ads\n",
      "25104    Google-ads\n",
      "25105    Google-ads\n",
      "25106    Google-ads\n",
      "25107    Google-ads\n",
      "Name: AcquisitionSource, Length: 25108, dtype: object>\n"
     ]
    }
   ],
   "source": [
    "# looking for special characters\n",
    "unique_acquisition_sources=df['AcquisitionSource'].unique()\n",
    "print(unique_acquisition_sources)\n",
    "\n",
    "#some of the acquisition sources have trailing charcaters eg Meta-ads\\r' 'Google-ads\\r' 'Yt-Campaign\\r\n",
    "# removing them\n",
    "\n",
    "df['AcquisitionSource']=df['AcquisitionSource'].str.strip()\n",
    "print(df['AcquisitionSource'].value_counts)\n",
    "\n",
    "\n"
   ]
  },
  {
   "cell_type": "code",
   "execution_count": 58,
   "id": "0517fdb1",
   "metadata": {},
   "outputs": [
    {
     "name": "stdout",
     "output_type": "stream",
     "text": [
      "Fraud\n",
      "FALSE      23601\n",
      "TRUE        1197\n",
      "Unknown      310\n",
      "Name: count, dtype: int64\n"
     ]
    }
   ],
   "source": [
    "# when cleaning the dataset in excel, I replaced the U values in the fraud column with Unkown, changing that\n",
    "df['Fraud']=df['Fraud'].replace('Unkown', 'Unknown')\n",
    "print(df['Fraud'].value_counts())"
   ]
  },
  {
   "cell_type": "code",
   "execution_count": 59,
   "id": "1fc696d0",
   "metadata": {},
   "outputs": [
    {
     "name": "stdout",
     "output_type": "stream",
     "text": [
      "False\n"
     ]
    }
   ],
   "source": [
    "# cleanig cardtype- checking for blanks, unknown values etc\n",
    "# print(df['CardType'].value_counts())\n",
    "blank_card_type=df['CardType'].empty\n",
    "print(blank_card_type)\n"
   ]
  },
  {
   "cell_type": "code",
   "execution_count": 60,
   "id": "a9373feb",
   "metadata": {},
   "outputs": [
    {
     "name": "stdout",
     "output_type": "stream",
     "text": [
      "Gender\n",
      "M    21906\n",
      "X      161\n",
      "P       65\n",
      "N       62\n",
      "U       34\n",
      "Y        6\n",
      "S        3\n",
      "Name: count, dtype: int64\n",
      "Cleaned 'Gender' unique values:\n",
      "['Male' 'Others']\n"
     ]
    },
    {
     "name": "stderr",
     "output_type": "stream",
     "text": [
      "C:\\Users\\admin\\AppData\\Local\\Temp\\ipykernel_29076\\841181677.py:14: FutureWarning: A value is trying to be set on a copy of a DataFrame or Series through chained assignment using an inplace method.\n",
      "The behavior will change in pandas 3.0. This inplace method will never work because the intermediate object on which we are setting values always behaves as a copy.\n",
      "\n",
      "For example, when doing 'df[col].method(value, inplace=True)', try using 'df.method({col: value}, inplace=True)' or df[col] = df[col].method(value) instead, to perform the operation inplace on the original object.\n",
      "\n",
      "\n",
      "  df['Gender'].fillna('Others', inplace=True)\n"
     ]
    }
   ],
   "source": [
    "# cleaning gender column\n",
    "print(df['Gender'].value_counts())\n",
    "\n",
    "df['Gender'] = df['Gender'].replace({\n",
    "    'M': 'Male',\n",
    "    'X': 'Others',\n",
    "    'P': 'Others',\n",
    "    'N': 'Others',\n",
    "    'U': 'Others',\n",
    "    'Y': 'Others',\n",
    "    'S': 'Others'\n",
    "})\n",
    "\n",
    "df['Gender'].fillna('Others', inplace=True)\n",
    "\n",
    "print(\"Cleaned 'Gender' unique values:\")\n",
    "print(df['Gender'].unique())\n",
    "\n",
    "\n"
   ]
  },
  {
   "cell_type": "code",
   "execution_count": 61,
   "id": "d69db130",
   "metadata": {},
   "outputs": [
    {
     "name": "stdout",
     "output_type": "stream",
     "text": [
      "CardType\n",
      "VISA        13605\n",
      "MC           6090\n",
      "AMEX         2469\n",
      "DISCOVER      560\n",
      "JCB            39\n",
      "Name: count, dtype: int64\n",
      "PaymentMethod\n",
      "CREDITCARD    22699\n",
      "PAYPAL         2409\n",
      "Name: count, dtype: int64\n",
      "<bound method Series.unique of 0        CREDITCARD\n",
      "1        CREDITCARD\n",
      "2        CREDITCARD\n",
      "3        CREDITCARD\n",
      "4        CREDITCARD\n",
      "            ...    \n",
      "25103    CREDITCARD\n",
      "25104    CREDITCARD\n",
      "25105    CREDITCARD\n",
      "25106    CREDITCARD\n",
      "25107    CREDITCARD\n",
      "Name: PaymentMethod, Length: 25108, dtype: object>\n"
     ]
    }
   ],
   "source": [
    "\n",
    "print(df['CardType'].value_counts())\n",
    "print(df['PaymentMethod'].value_counts())\n",
    "print(df['PaymentMethod'].unique)\n",
    " \n"
   ]
  },
  {
   "cell_type": "code",
   "execution_count": 62,
   "id": "2f1b9515",
   "metadata": {},
   "outputs": [
    {
     "name": "stdout",
     "output_type": "stream",
     "text": [
      "0       2020-01-01\n",
      "1       2020-01-01\n",
      "2       2020-01-01\n",
      "3       2020-01-01\n",
      "4       2020-02-01\n",
      "           ...    \n",
      "25103          NaT\n",
      "25104          NaT\n",
      "25105          NaT\n",
      "25106          NaT\n",
      "25107          NaT\n",
      "Name: OrderDate, Length: 25108, dtype: datetime64[ns]\n",
      "<class 'pandas.core.frame.DataFrame'>\n",
      "RangeIndex: 25108 entries, 0 to 25107\n",
      "Data columns (total 18 columns):\n",
      " #   Column             Non-Null Count  Dtype         \n",
      "---  ------             --------------  -----         \n",
      " 0   OrderID            25108 non-null  object        \n",
      " 1   Region             25108 non-null  object        \n",
      " 2   Country            25108 non-null  object        \n",
      " 3   CustID             25108 non-null  int64         \n",
      " 4   Customer_Name      25106 non-null  object        \n",
      " 5   ProductSKU         25108 non-null  object        \n",
      " 6   Product_Category   25108 non-null  object        \n",
      " 7   OrderLineItem      25108 non-null  int64         \n",
      " 8   OrderQuantity      25108 non-null  int64         \n",
      " 9   ProductCost        25108 non-null  float64       \n",
      " 10  ProductPrice       25108 non-null  float64       \n",
      " 11  OrderDate          9928 non-null   datetime64[ns]\n",
      " 12  AcquisitionSource  25108 non-null  object        \n",
      " 13  TransactionID      25108 non-null  object        \n",
      " 14  Fraud              25108 non-null  object        \n",
      " 15  PaymentMethod      25108 non-null  object        \n",
      " 16  CardType           22763 non-null  object        \n",
      " 17  Gender             25108 non-null  object        \n",
      "dtypes: datetime64[ns](1), float64(2), int64(3), object(12)\n",
      "memory usage: 3.4+ MB\n"
     ]
    }
   ],
   "source": [
    "# standardizing order date. Some have this format 29-01-2020, others have this format 9/1/2020\n",
    "df['OrderDate']=pd.to_datetime(df['OrderDate'],errors='coerce')\n",
    "print(df['OrderDate'])\n",
    "df.info()\n"
   ]
  },
  {
   "cell_type": "code",
   "execution_count": 63,
   "id": "cbdf96f5",
   "metadata": {},
   "outputs": [
    {
     "name": "stdout",
     "output_type": "stream",
     "text": [
      "<class 'pandas.core.frame.DataFrame'>\n",
      "RangeIndex: 25108 entries, 0 to 25107\n",
      "Data columns (total 18 columns):\n",
      " #   Column             Non-Null Count  Dtype         \n",
      "---  ------             --------------  -----         \n",
      " 0   OrderID            25108 non-null  object        \n",
      " 1   Region             25108 non-null  object        \n",
      " 2   Country            25108 non-null  object        \n",
      " 3   CustID             25108 non-null  int64         \n",
      " 4   Customer_Name      25106 non-null  object        \n",
      " 5   ProductSKU         25108 non-null  object        \n",
      " 6   Product_Category   25108 non-null  object        \n",
      " 7   OrderLineItem      25108 non-null  int64         \n",
      " 8   OrderQuantity      25108 non-null  int64         \n",
      " 9   ProductCost        25108 non-null  float64       \n",
      " 10  ProductPrice       25108 non-null  float64       \n",
      " 11  OrderDate          9928 non-null   datetime64[ns]\n",
      " 12  AcquisitionSource  25108 non-null  object        \n",
      " 13  TransactionID      25108 non-null  object        \n",
      " 14  Fraud              25108 non-null  object        \n",
      " 15  PaymentMethod      25108 non-null  object        \n",
      " 16  CardType           22763 non-null  object        \n",
      " 17  Gender             25108 non-null  object        \n",
      "dtypes: datetime64[ns](1), float64(2), int64(3), object(12)\n",
      "memory usage: 3.4+ MB\n",
      "None\n"
     ]
    }
   ],
   "source": [
    "print(df.info())\n"
   ]
  },
  {
   "cell_type": "code",
   "execution_count": 66,
   "id": "288b1da3",
   "metadata": {},
   "outputs": [],
   "source": [
    "df.to_csv('cleaned_order_data.csv', index=False)"
   ]
  },
  {
   "cell_type": "code",
   "execution_count": 67,
   "id": "91252b31",
   "metadata": {},
   "outputs": [
    {
     "name": "stdout",
     "output_type": "stream",
     "text": [
      "Empty DataFrame\n",
      "Columns: [OrderID, Region, Country, CustID, Customer_Name, ProductSKU, Product_Category, OrderLineItem, OrderQuantity, ProductCost, ProductPrice, OrderDate, AcquisitionSource, TransactionID, Fraud, PaymentMethod, CardType, Gender]\n",
      "Index: []\n"
     ]
    }
   ],
   "source": [
    "are_duplicates=df.duplicated()\n",
    "duplicate_rows=df[are_duplicates]\n",
    "print(duplicate_rows)"
   ]
  },
  {
   "cell_type": "code",
   "execution_count": 68,
   "id": "33e66830",
   "metadata": {},
   "outputs": [
    {
     "name": "stdout",
     "output_type": "stream",
     "text": [
      "  AcquisitionSource  NumberOfOrders  TotalRevenue\n",
      "0        Google-ads           20003    9809863.01\n",
      "1          Meta-ads            2554    1249412.22\n",
      "2       Yt-Campaign            2551    1156904.45\n"
     ]
    }
   ],
   "source": [
    "# identifying the best acquisition Source by segmenting the data by acquisition source and calculating the conversion rate for each determine\n",
    "# the customer acquisition cost CAC and find the source that offers the best balance of low CAC and high conversion\n",
    "# rates \n",
    "\n",
    "performance_data = df.groupby('AcquisitionSource').agg(\n",
    "    NumberOfOrders=('OrderID', 'count'), \n",
    "    TotalRevenue=('ProductPrice', 'sum')  \n",
    ").reset_index() \n",
    "\n",
    "print(performance_data)\n"
   ]
  },
  {
   "cell_type": "code",
   "execution_count": 69,
   "id": "7e53378e",
   "metadata": {},
   "outputs": [
    {
     "name": "stdout",
     "output_type": "stream",
     "text": [
      "  AcquisitionSource  NumberOfOrders  TotalRevenue  AverageOrderValue\n",
      "0        Google-ads           20003    9809863.01         490.419588\n",
      "1          Meta-ads            2554    1249412.22         489.198207\n",
      "2       Yt-Campaign            2551    1156904.45         453.510172\n"
     ]
    }
   ],
   "source": [
    "performance_data['AverageOrderValue'] = performance_data['TotalRevenue'] / performance_data['NumberOfOrders']\n",
    "\n",
    "\n",
    "performance_data = performance_data.sort_values(by='NumberOfOrders', ascending=False)\n",
    "print(performance_data)\n"
   ]
  }
 ],
 "metadata": {
  "kernelspec": {
   "display_name": "Python 3",
   "language": "python",
   "name": "python3"
  },
  "language_info": {
   "codemirror_mode": {
    "name": "ipython",
    "version": 3
   },
   "file_extension": ".py",
   "mimetype": "text/x-python",
   "name": "python",
   "nbconvert_exporter": "python",
   "pygments_lexer": "ipython3",
   "version": "3.13.1"
  }
 },
 "nbformat": 4,
 "nbformat_minor": 5
}
